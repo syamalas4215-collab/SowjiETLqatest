{
 "cells": [
  {
   "cell_type": "code",
   "execution_count": 1,
   "id": "6ab434bf-73b7-45f6-9800-499bd1ae985b",
   "metadata": {},
   "outputs": [],
   "source": [
    "import pandas as pd"
   ]
  },
  {
   "cell_type": "code",
   "execution_count": 4,
   "id": "d102356c-0521-464a-a5b5-127f8befd57a",
   "metadata": {},
   "outputs": [],
   "source": [
    "data = {\n",
    "\"Employee_ID\": [101, 102, 103, 104],\n",
    "\"Name\": [\"Amit\", \"Bhavna\", \"Chetan\", \"Divya\"],\n",
    "\"Department\": [\"HR\", \"Finance\", \"IT\", \"Marketing\"],\n",
    "\"Salary\": [50000, 60000, 55000, 52000],\n",
    "\"Joining_Date\": [\"2022-01-10\", \"2021-03-15\", \"2020-07-01\", \"2023-02-20\"]\n",
    "}\n",
    "df = pd.DataFrame(data)"
   ]
  },
  {
   "cell_type": "code",
   "execution_count": 5,
   "id": "b0530997-5325-4d01-8aa1-f1edd20af7c5",
   "metadata": {},
   "outputs": [
    {
     "data": {
      "text/html": [
       "<div>\n",
       "<style scoped>\n",
       "    .dataframe tbody tr th:only-of-type {\n",
       "        vertical-align: middle;\n",
       "    }\n",
       "\n",
       "    .dataframe tbody tr th {\n",
       "        vertical-align: top;\n",
       "    }\n",
       "\n",
       "    .dataframe thead th {\n",
       "        text-align: right;\n",
       "    }\n",
       "</style>\n",
       "<table border=\"1\" class=\"dataframe\">\n",
       "  <thead>\n",
       "    <tr style=\"text-align: right;\">\n",
       "      <th></th>\n",
       "      <th>Employee_ID</th>\n",
       "      <th>Name</th>\n",
       "      <th>Department</th>\n",
       "      <th>Salary</th>\n",
       "      <th>Joining_Date</th>\n",
       "    </tr>\n",
       "  </thead>\n",
       "  <tbody>\n",
       "    <tr>\n",
       "      <th>0</th>\n",
       "      <td>101</td>\n",
       "      <td>Amit</td>\n",
       "      <td>HR</td>\n",
       "      <td>50000</td>\n",
       "      <td>2022-01-10</td>\n",
       "    </tr>\n",
       "    <tr>\n",
       "      <th>1</th>\n",
       "      <td>102</td>\n",
       "      <td>Bhavna</td>\n",
       "      <td>Finance</td>\n",
       "      <td>60000</td>\n",
       "      <td>2021-03-15</td>\n",
       "    </tr>\n",
       "    <tr>\n",
       "      <th>2</th>\n",
       "      <td>103</td>\n",
       "      <td>Chetan</td>\n",
       "      <td>IT</td>\n",
       "      <td>55000</td>\n",
       "      <td>2020-07-01</td>\n",
       "    </tr>\n",
       "    <tr>\n",
       "      <th>3</th>\n",
       "      <td>104</td>\n",
       "      <td>Divya</td>\n",
       "      <td>Marketing</td>\n",
       "      <td>52000</td>\n",
       "      <td>2023-02-20</td>\n",
       "    </tr>\n",
       "  </tbody>\n",
       "</table>\n",
       "</div>"
      ],
      "text/plain": [
       "   Employee_ID    Name Department  Salary Joining_Date\n",
       "0          101    Amit         HR   50000   2022-01-10\n",
       "1          102  Bhavna    Finance   60000   2021-03-15\n",
       "2          103  Chetan         IT   55000   2020-07-01\n",
       "3          104   Divya  Marketing   52000   2023-02-20"
      ]
     },
     "execution_count": 5,
     "metadata": {},
     "output_type": "execute_result"
    }
   ],
   "source": [
    "df"
   ]
  },
  {
   "cell_type": "code",
   "execution_count": 11,
   "id": "5782e0ec-1fa5-4133-8b27-2ab2610e1896",
   "metadata": {},
   "outputs": [],
   "source": [
    "df.to_excel(\"employees.xlsx\",index=False,sheet_name=\"employeesData\")"
   ]
  },
  {
   "cell_type": "code",
   "execution_count": 12,
   "id": "dd390e04-8ffb-4001-8947-840431cd7528",
   "metadata": {},
   "outputs": [
    {
     "name": "stdout",
     "output_type": "stream",
     "text": [
      "Requirement already satisfied: openpyxl in c:\\users\\syama\\appdata\\local\\programs\\python\\python313\\lib\\site-packages (3.1.5)\n",
      "Requirement already satisfied: et-xmlfile in c:\\users\\syama\\appdata\\local\\programs\\python\\python313\\lib\\site-packages (from openpyxl) (2.0.0)\n",
      "Note: you may need to restart the kernel to use updated packages.\n"
     ]
    },
    {
     "name": "stderr",
     "output_type": "stream",
     "text": [
      "\n",
      "[notice] A new release of pip is available: 25.1.1 -> 25.2\n",
      "[notice] To update, run: python.exe -m pip install --upgrade pip\n"
     ]
    }
   ],
   "source": [
    "%pip install openpyxl\n"
   ]
  },
  {
   "cell_type": "code",
   "execution_count": 16,
   "id": "526d0f6c-9ef1-48c1-a3a7-bb66f50cd4b6",
   "metadata": {},
   "outputs": [],
   "source": [
    "df_excel = pd.read_excel(\"employees.xlsx\",sheet_name=\"employeesData\")"
   ]
  },
  {
   "cell_type": "code",
   "execution_count": 17,
   "id": "fcf2f12d-ef44-4fd0-8632-9e7bee83664d",
   "metadata": {},
   "outputs": [
    {
     "data": {
      "text/html": [
       "<div>\n",
       "<style scoped>\n",
       "    .dataframe tbody tr th:only-of-type {\n",
       "        vertical-align: middle;\n",
       "    }\n",
       "\n",
       "    .dataframe tbody tr th {\n",
       "        vertical-align: top;\n",
       "    }\n",
       "\n",
       "    .dataframe thead th {\n",
       "        text-align: right;\n",
       "    }\n",
       "</style>\n",
       "<table border=\"1\" class=\"dataframe\">\n",
       "  <thead>\n",
       "    <tr style=\"text-align: right;\">\n",
       "      <th></th>\n",
       "      <th>Employee_ID</th>\n",
       "      <th>Name</th>\n",
       "      <th>Department</th>\n",
       "      <th>Salary</th>\n",
       "      <th>Joining_Date</th>\n",
       "    </tr>\n",
       "  </thead>\n",
       "  <tbody>\n",
       "    <tr>\n",
       "      <th>0</th>\n",
       "      <td>101</td>\n",
       "      <td>Amit</td>\n",
       "      <td>HR</td>\n",
       "      <td>50000</td>\n",
       "      <td>2022-01-10</td>\n",
       "    </tr>\n",
       "    <tr>\n",
       "      <th>1</th>\n",
       "      <td>102</td>\n",
       "      <td>Bhavna</td>\n",
       "      <td>Finance</td>\n",
       "      <td>60000</td>\n",
       "      <td>2021-03-15</td>\n",
       "    </tr>\n",
       "    <tr>\n",
       "      <th>2</th>\n",
       "      <td>103</td>\n",
       "      <td>Chetan</td>\n",
       "      <td>IT</td>\n",
       "      <td>55000</td>\n",
       "      <td>2020-07-01</td>\n",
       "    </tr>\n",
       "    <tr>\n",
       "      <th>3</th>\n",
       "      <td>104</td>\n",
       "      <td>Divya</td>\n",
       "      <td>Marketing</td>\n",
       "      <td>52000</td>\n",
       "      <td>2023-02-20</td>\n",
       "    </tr>\n",
       "  </tbody>\n",
       "</table>\n",
       "</div>"
      ],
      "text/plain": [
       "   Employee_ID    Name Department  Salary Joining_Date\n",
       "0          101    Amit         HR   50000   2022-01-10\n",
       "1          102  Bhavna    Finance   60000   2021-03-15\n",
       "2          103  Chetan         IT   55000   2020-07-01\n",
       "3          104   Divya  Marketing   52000   2023-02-20"
      ]
     },
     "execution_count": 17,
     "metadata": {},
     "output_type": "execute_result"
    }
   ],
   "source": [
    "df_excel"
   ]
  },
  {
   "cell_type": "code",
   "execution_count": null,
   "id": "25fa7467-9aad-4b80-866a-e248c031b552",
   "metadata": {},
   "outputs": [],
   "source": []
  }
 ],
 "metadata": {
  "kernelspec": {
   "display_name": "Python 3 (ipykernel)",
   "language": "python",
   "name": "python3"
  },
  "language_info": {
   "codemirror_mode": {
    "name": "ipython",
    "version": 3
   },
   "file_extension": ".py",
   "mimetype": "text/x-python",
   "name": "python",
   "nbconvert_exporter": "python",
   "pygments_lexer": "ipython3",
   "version": "3.13.5"
  }
 },
 "nbformat": 4,
 "nbformat_minor": 5
}
